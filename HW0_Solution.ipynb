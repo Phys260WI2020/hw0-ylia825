{
 "cells": [
  {
   "cell_type": "markdown",
   "metadata": {},
   "source": [
    "# **My first header**\n",
    "\n",
    "## **I like to put emphasis on things**\n",
    "\n",
    "### **Even small, seemingly unimportant, things**"
   ]
  },
  {
   "cell_type": "code",
   "execution_count": 1,
   "metadata": {},
   "outputs": [],
   "source": [
    "#I put in some code to throw you off!"
   ]
  },
  {
   "cell_type": "markdown",
   "metadata": {},
   "source": [
    "- Who wants an unumbered list?\n",
    "    - **I DO!**\n",
    "    \n",
    "1) But umbered lists can also be good.\n",
    "\n",
    "2) *I guess*"
   ]
  },
  {
   "cell_type": "code",
   "execution_count": 2,
   "metadata": {},
   "outputs": [
    {
     "data": {
      "text/plain": [
       "<Figure size 640x480 with 1 Axes>"
      ]
     },
     "metadata": {},
     "output_type": "display_data"
    }
   ],
   "source": [
    "import math\n",
    "import numpy as np\n",
    "x_value = np.array([0.0, 0.25, 0.5, 0.75, 1.0, 1.25, 1.5, 1.75, 2.0, 2.25, 2.5, 2.75, 3.0, 3.25, 3.5, 3.75, 4.0, 4.25, 4.5, 4.75, 5.0])\n",
    "y_value = np.array(2.71828182846**x_value)\n",
    "import matplotlib.pyplot as plt\n",
    "plt.plot(x_value, y_value, 'gs--')\n",
    "plt.xlabel('X Values')\n",
    "plt.ylabel('Exponential Values')\n",
    "plt.show()"
   ]
  },
  {
   "cell_type": "code",
   "execution_count": 4,
   "metadata": {},
   "outputs": [
    {
     "name": "stdout",
     "output_type": "stream",
     "text": [
      "[[15. 15. 15.]\n",
      " [15. 15. 15.]\n",
      " [15. 15. 15.]\n",
      " [15. 15. 15.]\n",
      " [15. 15. 15.]]\n"
     ]
    }
   ],
   "source": [
    "import numpy as np\n",
    "a = np.zeros(15)\n",
    "a += 15\n",
    "b = a.reshape(5, 3)\n",
    "print (b)"
   ]
  },
  {
   "cell_type": "code",
   "execution_count": 14,
   "metadata": {},
   "outputs": [
    {
     "data": {
      "image/png": "[encoded data removed]",
      "text/plain": [
       "<Figure size 432x288 with 1 Axes>"
      ]
     },
     "metadata": {
      "needs_background": "light"
     },
     "output_type": "display_data"
    }
   ],
   "source": [
    "E = np.arange(0, 1.05, 0.05)\n",
    "def score(E, a):\n",
    "    G = ((1 - 0.35*E)*a) + (0.35*E)\n",
    "    return G\n",
    "plt.plot(E, score(E, 0.6), 'r--', E, score(E, 0.7), 'bs', E, score(E, 0.8), 'g^', E, score(E, 0.9), 'r.')\n",
    "plt.xlabel('E')\n",
    "plt.ylabel('G')\n",
    "plt.show()"
   ]
  }
 ],
 "metadata": {
  "kernelspec": {
   "display_name": "Python 3",
   "language": "python",
   "name": "python3"
  },
  "language_info": {
   "codemirror_mode": {
    "name": "ipython",
    "version": 3
   },
   "file_extension": ".py",
   "mimetype": "text/x-python",
   "name": "python",
   "nbconvert_exporter": "python",
   "pygments_lexer": "ipython3",
   "version": "3.7.4"
  }
 },
 "nbformat": 4,
 "nbformat_minor": 2
}
